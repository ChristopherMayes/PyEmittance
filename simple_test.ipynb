{
 "cells": [
  {
   "cell_type": "code",
   "execution_count": 1,
   "id": "d1adf8a4",
   "metadata": {},
   "outputs": [],
   "source": [
    "from pyemittance import emittance_calc\n",
    "\n",
    "import numpy as np\n",
    "from numpy import sin, cos, sinh, cosh, sqrt"
   ]
  },
  {
   "cell_type": "markdown",
   "id": "ac7535c8",
   "metadata": {},
   "source": [
    "# Create data"
   ]
  },
  {
   "cell_type": "code",
   "execution_count": 2,
   "id": "e4d972db",
   "metadata": {},
   "outputs": [],
   "source": [
    "# Some beam covariance matrix\n",
    "\n",
    "EMIT = 1e-9\n",
    "BETA_X = 10\n",
    "ALPHA_X = -1\n",
    "GAMMA_X = (1+ALPHA_X**2)/BETA_X\n",
    "SIGMA_X = sqrt(EMIT*BETA_X)\n",
    "SIGMA_PX = sqrt(EMIT*GAMMA_X)\n",
    "COV_X__PX = -ALPHA_X*EMIT\n",
    "\n",
    "\n",
    "SIGMA_11 = SIGMA_X**2\n",
    "SIGMA_12 = COV_X__PX\n",
    "SIGMA_22 = SIGMA_PX**2\n",
    "\n",
    "SIGMA0 = np.array([[SIGMA_11, SIGMA_12], [SIGMA_12, SIGMA_22]])"
   ]
  },
  {
   "cell_type": "code",
   "execution_count": 3,
   "id": "6efa8fd5",
   "metadata": {},
   "outputs": [],
   "source": [
    "def thin_quad_mat2(kL):\n",
    "    return np.array( [ [1, 0], [-kL, 1] ])\n",
    "\n",
    "def drift_mat2(L):\n",
    "    return np.array( [ [1, L], [0, 1] ])\n",
    "\n",
    "def quad_mat2(kL, L=0):\n",
    "    \"\"\"\n",
    "    Quadrupole transfer matrix, 2x2. Note that \n",
    "    \n",
    "    \"\"\"\n",
    "    \n",
    "    if L == 0:\n",
    "        return thin_quad_mat2(kL)\n",
    "    \n",
    "    k = kL/L\n",
    "    \n",
    "    if k == 0:\n",
    "        mat2 = drift_mat2(L)\n",
    "    elif k > 0:\n",
    "        # Focusing\n",
    "        rk = sqrt(k)\n",
    "        phi = rk*L\n",
    "        mat2 =  [ [cos(phi), sin(phi)/rk], [-rk*sin(phi), cos(phi)] ]\n",
    "    else:\n",
    "        # Defocusing\n",
    "        rk = sqrt(-k)\n",
    "        phi = rk*L\n",
    "        mat2 = [ [cosh(phi), sinh(phi)/rk], [rk*sinh(phi), cosh(phi)] ]\n",
    "        \n",
    "    return mat2\n",
    "\n",
    "def quad_drift_mat2(kL, *, Ltot=2.0,  Lquad=0):\n",
    "    \"\"\"\n",
    "    Composite [quad, drift] 2x2 transfer matrix. \n",
    "    \"\"\"\n",
    "    \n",
    "    Ldrift = Ltot - Lquad\n",
    "    \n",
    "    return drift_mat2(Ldrift) @ quad_mat2(kL, Lquad)\n",
    "\n",
    "def propagate_sigma(sigma_mat2, mat2):\n",
    "    return (mat2 @ sigma_mat2) @ mat2.T\n",
    "\n",
    "def beam_size_meas(kL, sigma0, Ltot=2.2, Lquad=0):\n",
    "    \n",
    "    mat2 = quad_drift_mat2(kL, Lquad=Lquad, Ltot=Ltot)\n",
    "\n",
    "    sigma1 = propagate_sigma(sigma0, mat2)\n",
    "    \n",
    "    return np.sqrt(sigma1[0,0])\n",
    "\n",
    "@np.vectorize\n",
    "def model1(kL):\n",
    "    return beam_size_meas(kL, SIGMA0, Ltot=2.26, Lquad=0)\n",
    "\n",
    "@np.vectorize\n",
    "def model2(kL):\n",
    "    return beam_size_meas(kL, SIGMA0, Ltot=2.26, Lquad=0.108)\n",
    "\n",
    "@np.vectorize\n",
    "def model3(kL):\n",
    "    return beam_size_meas(kL, SIGMA0, Ltot=2.26*1.1, Lquad=0.108)\n",
    "\n",
    "kLlist = np.linspace(0.2, 0.7, 10)\n",
    "\n",
    "# Make the data\n",
    "meas1 =  np.array([model1(k) for k in kLlist])\n",
    "meas2 =  np.array([model2(k) for k in kLlist])\n",
    "meas3 =  np.array([model3(k) for k in kLlist])"
   ]
  },
  {
   "cell_type": "code",
   "execution_count": 4,
   "id": "88829b8d",
   "metadata": {},
   "outputs": [
    {
     "data": {
      "text/plain": [
       "<matplotlib.legend.Legend at 0x7f8db09c2b90>"
      ]
     },
     "execution_count": 4,
     "metadata": {},
     "output_type": "execute_result"
    },
    {
     "data": {
      "image/png": "[encoded data removed]",
      "text/plain": [
       "<Figure size 432x288 with 1 Axes>"
      ]
     },
     "metadata": {
      "needs_background": "light"
     },
     "output_type": "display_data"
    }
   ],
   "source": [
    "import matplotlib.pyplot as plt\n",
    "\n",
    "plt.scatter(kLlist, meas1*1e6, label='thin quad model')\n",
    "plt.scatter(kLlist, meas2*1e6, label='thick quad model')\n",
    "plt.scatter(kLlist, meas3*1e6, label='thick quad model, 10% longer Ltot')\n",
    "#plt.scatter(klist, meas3*1e6, label='thick quad model, 10% higher Lquad')\n",
    "plt.xlabel(r'quad k1 (1/m$^2$)')\n",
    "plt.ylabel('Beam size (µm)')\n",
    "plt.legend()"
   ]
  },
  {
   "cell_type": "markdown",
   "id": "c1a6121d",
   "metadata": {},
   "source": [
    "# Fit data"
   ]
  },
  {
   "cell_type": "code",
   "execution_count": 5,
   "id": "005f3e26",
   "metadata": {},
   "outputs": [],
   "source": [
    "from pyemittance.observer import Observer\n",
    "from pyemittance.emittance_calc import EmitCalc\n",
    "\n",
    "# Make the data\n",
    "o1 = Observer(kLlist, {'x': meas3 ,'y': meas3} )"
   ]
  },
  {
   "cell_type": "code",
   "execution_count": 6,
   "id": "252061bb",
   "metadata": {},
   "outputs": [
    {
     "data": {
      "image/png": "[encoded data removed]",
      "text/plain": [
       "<Figure size 432x288 with 1 Axes>"
      ]
     },
     "metadata": {
      "needs_background": "light"
     },
     "output_type": "display_data"
    },
    {
     "data": {
      "image/png": "[encoded data removed]",
      "text/plain": [
       "<Figure size 432x288 with 1 Axes>"
      ]
     },
     "metadata": {
      "needs_background": "light"
     },
     "output_type": "display_data"
    }
   ],
   "source": [
    "ef1 = EmitCalc(o1.quad_meas,o1.beam_meas)\n",
    "emitx, erry = ef1.do_emit_fit(dim='x')\n",
    "emity, erry = ef1.do_emit_fit(dim='y')"
   ]
  },
  {
   "cell_type": "code",
   "execution_count": null,
   "id": "01834ebe",
   "metadata": {},
   "outputs": [],
   "source": []
  },
  {
   "cell_type": "code",
   "execution_count": null,
   "id": "568c6fb4",
   "metadata": {},
   "outputs": [],
   "source": []
  }
 ],
 "metadata": {
  "kernelspec": {
   "display_name": "Python 3",
   "language": "python",
   "name": "python3"
  },
  "language_info": {
   "codemirror_mode": {
    "name": "ipython",
    "version": 3
   },
   "file_extension": ".py",
   "mimetype": "text/x-python",
   "name": "python",
   "nbconvert_exporter": "python",
   "pygments_lexer": "ipython3",
   "version": "3.7.11"
  }
 },
 "nbformat": 4,
 "nbformat_minor": 5
}
