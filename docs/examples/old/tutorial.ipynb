{
 "cells": [
  {
   "cell_type": "markdown",
   "id": "843e466b",
   "metadata": {},
   "source": [
    "# PyEmittance Tutorial"
   ]
  },
  {
   "cell_type": "code",
   "execution_count": 1,
   "id": "340c0d38-a2ff-469c-8abe-d97b3fc7e3a0",
   "metadata": {
    "execution": {
     "iopub.execute_input": "2022-12-18T23:09:03.640732Z",
     "iopub.status.busy": "2022-12-18T23:09:03.640516Z",
     "iopub.status.idle": "2022-12-18T23:09:03.997214Z",
     "shell.execute_reply": "2022-12-18T23:09:03.996809Z"
    }
   },
   "outputs": [],
   "source": [
    "from pyemittance import PyEmittance\n",
    "import numpy as np"
   ]
  },
  {
   "cell_type": "code",
   "execution_count": 2,
   "id": "97b9eae3-b80c-46d5-8c6f-1df8923fb03c",
   "metadata": {
    "execution": {
     "iopub.execute_input": "2022-12-18T23:09:03.999410Z",
     "iopub.status.busy": "2022-12-18T23:09:03.999205Z",
     "iopub.status.idle": "2022-12-18T23:09:04.001830Z",
     "shell.execute_reply": "2022-12-18T23:09:04.001467Z"
    }
   },
   "outputs": [],
   "source": [
    "meas = PyEmittance()"
   ]
  },
  {
   "cell_type": "code",
   "execution_count": 3,
   "id": "f5389d1c-4e56-4484-84b0-a48ff3d0cff3",
   "metadata": {
    "execution": {
     "iopub.execute_input": "2022-12-18T23:09:04.003771Z",
     "iopub.status.busy": "2022-12-18T23:09:04.003643Z",
     "iopub.status.idle": "2022-12-18T23:09:04.007047Z",
     "shell.execute_reply": "2022-12-18T23:09:04.006633Z"
    }
   },
   "outputs": [
    {
     "data": {
      "text/plain": [
       "'LCLS_OTR2'"
      ]
     },
     "execution_count": 3,
     "metadata": {},
     "output_type": "execute_result"
    }
   ],
   "source": [
    "meas.config_name"
   ]
  },
  {
   "cell_type": "markdown",
   "id": "3af3b88e-992f-4379-91e0-8c1c0c7ca933",
   "metadata": {},
   "source": [
    "## Three options for setting configurations for measurements:\n",
    "1. Make directory under `configs/` with Machine_Device_Name with all needed jsons (see `configs/LCLS2_OTR3`), and pass dir name to `meas.config_name`\n",
    "2. Change params and configs through class attributes\n",
    "3. pass the dictionary to pyemittance (same keys and subkeys as `meas.config_dict` below)"
   ]
  },
  {
   "cell_type": "code",
   "execution_count": 4,
   "id": "156777c4-1f4d-4285-b8c5-99988c802d1f",
   "metadata": {
    "execution": {
     "iopub.execute_input": "2022-12-18T23:09:04.009024Z",
     "iopub.status.busy": "2022-12-18T23:09:04.008931Z",
     "iopub.status.idle": "2022-12-18T23:09:04.010877Z",
     "shell.execute_reply": "2022-12-18T23:09:04.010530Z"
    }
   },
   "outputs": [],
   "source": [
    "meas.num_points = 5"
   ]
  },
  {
   "cell_type": "code",
   "execution_count": 5,
   "id": "13efc521-380c-47c4-b5b5-55929df9f418",
   "metadata": {
    "execution": {
     "iopub.execute_input": "2022-12-18T23:09:04.012588Z",
     "iopub.status.busy": "2022-12-18T23:09:04.012504Z",
     "iopub.status.idle": "2022-12-18T23:09:04.015041Z",
     "shell.execute_reply": "2022-12-18T23:09:04.014672Z"
    }
   },
   "outputs": [
    {
     "data": {
      "text/plain": [
       "dict_keys(['beamline_info', 'img_proc', 'meas_pv_info', 'opt_pv_info', 'save_scalar_pvs', 'savepaths'])"
      ]
     },
     "execution_count": 5,
     "metadata": {},
     "output_type": "execute_result"
    }
   ],
   "source": [
    "# see all configs with command below\n",
    "meas.config_dict.keys()"
   ]
  },
  {
   "cell_type": "code",
   "execution_count": 6,
   "id": "61291621-7374-488d-870c-0c50e56d3c65",
   "metadata": {
    "execution": {
     "iopub.execute_input": "2022-12-18T23:09:04.016813Z",
     "iopub.status.busy": "2022-12-18T23:09:04.016692Z",
     "iopub.status.idle": "2022-12-18T23:09:04.019706Z",
     "shell.execute_reply": "2022-12-18T23:09:04.019257Z"
    }
   },
   "outputs": [
    {
     "data": {
      "text/plain": [
       "{'subtract_bg': False,\n",
       " 'use_roi': False,\n",
       " 'avg_ims': True,\n",
       " 'n_to_acquire': 5,\n",
       " 'background_im': None,\n",
       " 'amp_threshold': 1500,\n",
       " 'min_sigma': 1.0,\n",
       " 'max_sigma': 60,\n",
       " 'max_samples': 3,\n",
       " 'roi': {'xmin': 0, 'xmax': 100, 'ymin': 0, 'ymax': 100}}"
      ]
     },
     "execution_count": 6,
     "metadata": {},
     "output_type": "execute_result"
    }
   ],
   "source": [
    "meas.config_dict['img_proc']"
   ]
  },
  {
   "cell_type": "code",
   "execution_count": 7,
   "id": "f91e220b-2a96-4777-93a9-03c825ca5c95",
   "metadata": {
    "execution": {
     "iopub.execute_input": "2022-12-18T23:09:04.021496Z",
     "iopub.status.busy": "2022-12-18T23:09:04.021404Z",
     "iopub.status.idle": "2022-12-18T23:09:04.023568Z",
     "shell.execute_reply": "2022-12-18T23:09:04.023247Z"
    }
   },
   "outputs": [
    {
     "data": {
      "text/plain": [
       "[-6, -4, -2, 0]"
      ]
     },
     "execution_count": 7,
     "metadata": {},
     "output_type": "execute_result"
    }
   ],
   "source": [
    "meas.quad_init"
   ]
  },
  {
   "cell_type": "markdown",
   "id": "17abe0de-3282-412c-a1d7-b3c476596721",
   "metadata": {},
   "source": [
    "## Example running offline with random beam size numbers"
   ]
  },
  {
   "cell_type": "code",
   "execution_count": 8,
   "id": "3346bb1e-d4e9-456b-848d-a49dabe3837b",
   "metadata": {
    "execution": {
     "iopub.execute_input": "2022-12-18T23:09:04.025347Z",
     "iopub.status.busy": "2022-12-18T23:09:04.025248Z",
     "iopub.status.idle": "2022-12-18T23:09:04.062137Z",
     "shell.execute_reply": "2022-12-18T23:09:04.061846Z"
    }
   },
   "outputs": [],
   "source": [
    "import matplotlib.pyplot as plt\n",
    "res = meas.measure_emittance()"
   ]
  },
  {
   "cell_type": "code",
   "execution_count": 9,
   "id": "17907721-184c-4490-b466-5e53b0d764ce",
   "metadata": {
    "execution": {
     "iopub.execute_input": "2022-12-18T23:09:04.063887Z",
     "iopub.status.busy": "2022-12-18T23:09:04.063790Z",
     "iopub.status.idle": "2022-12-18T23:09:04.066841Z",
     "shell.execute_reply": "2022-12-18T23:09:04.066484Z"
    }
   },
   "outputs": [
    {
     "data": {
      "text/plain": [
       "{'name': 'LCLS',\n",
       " 'Lquad': 0.108,\n",
       " 'energy': 135000000.0,\n",
       " 'Twiss0': [1e-06,\n",
       "  1e-06,\n",
       "  1.113081026,\n",
       "  1.113021659,\n",
       "  -0.0689403587,\n",
       "  -0.07029489754],\n",
       " 'rMatx': [1, 2.26, 0, 1],\n",
       " 'rMaty': [1, 2.26, 0, 1]}"
      ]
     },
     "execution_count": 9,
     "metadata": {},
     "output_type": "execute_result"
    }
   ],
   "source": [
    "meas.config_dict['beamline_info']"
   ]
  },
  {
   "cell_type": "markdown",
   "id": "34c987d4-b401-4ddb-bcf2-57e96c0b5466",
   "metadata": {},
   "source": [
    "The output is a large dict:"
   ]
  },
  {
   "cell_type": "code",
   "execution_count": 10,
   "id": "789a0a4e-3cf6-4df1-a0a2-7697558b2aec",
   "metadata": {
    "execution": {
     "iopub.execute_input": "2022-12-18T23:09:04.068593Z",
     "iopub.status.busy": "2022-12-18T23:09:04.068477Z",
     "iopub.status.idle": "2022-12-18T23:09:04.071849Z",
     "shell.execute_reply": "2022-12-18T23:09:04.071489Z"
    }
   },
   "outputs": [
    {
     "data": {
      "text/plain": [
       "{'quadvalsx': array([-5.97253333, -5.33243803, -4.69234273, -4.05224744, -3.41215214,\n",
       "        -2.9000759 , -1.87592343]),\n",
       " 'beamsizesx': array([3.57733057e-04, 2.69424881e-04, 2.20191838e-04, 1.11129462e-04,\n",
       "        2.49507045e-04, 5.76606623e-05, 4.54766186e-04]),\n",
       " 'beamsizeserrx': array([5.36599585e-06, 4.04137322e-06, 3.30287757e-06, 1.66694193e-06,\n",
       "        3.74260567e-06, 8.64909935e-07, 6.82149279e-06]),\n",
       " 'error_x': False,\n",
       " 'emit_x': 4.048769334147927e-09,\n",
       " 'norm_emit_x': 1.0696302692740007e-06,\n",
       " 'beta_x': 17.945500828850488,\n",
       " 'alpha_x': 19.641616735216772,\n",
       " 'emit_x_err': 2.755169256184524e-10,\n",
       " 'norm_emit_x_err': 7.278785700465957e-08,\n",
       " 'beta_x_rel_err': 0.06804954861091993,\n",
       " 'alpha_x_rel_err': 7.992197267498953e-19,\n",
       " 'sigma_11': 7.265719344177605e-08,\n",
       " 'sigma_12': -7.952437551063238e-08,\n",
       " 'sigma_22': 8.726622283529557e-08,\n",
       " 'screen_sigma_11': array([1.37441492e-07, 8.06294105e-08, 3.92482414e-08, 1.30664438e-08,\n",
       "        1.85435973e-09, 3.50975154e-09, 3.46626183e-08]),\n",
       " 'screen_sigma_12': array([ 1.89397634e-08,  3.96681512e-09, -4.38547276e-09, -6.21764021e-09,\n",
       "        -1.62940530e-09,  6.59738375e-09,  3.49874804e-08]),\n",
       " 'screen_sigma_22': array([2.72921346e-09, 3.98466950e-10, 9.07681547e-10, 4.21320320e-09,\n",
       "        1.02717366e-08, 1.70718652e-08, 3.57883039e-08]),\n",
       " 'quadvalsy': array([-3. , -2. , -1. , -0.5,  0. ]),\n",
       " 'beamsizesy': array([0.00021947, 0.00056705, 0.00019156, 0.0003706 , 0.00040947]),\n",
       " 'beamsizeserry': array([3.29209575e-06, 8.50578110e-06, 2.87333764e-06, 5.55905026e-06,\n",
       "        6.14198174e-06]),\n",
       " 'error_y': False,\n",
       " 'emit_y': 1.188419761308426e-08,\n",
       " 'norm_emit_y': 3.139644776939104e-06,\n",
       " 'beta_y': 13.76028850015407,\n",
       " 'alpha_y': 0.035561495129718845,\n",
       " 'emit_y_err': 2.2646830941155945e-09,\n",
       " 'norm_emit_y_err': 5.982987391621643e-07,\n",
       " 'beta_y_rel_err': 0.19056255776344758,\n",
       " 'alpha_y_rel_err': 1.2623169440792577e-16,\n",
       " 'sigma_33': 1.6352998774888178e-07,\n",
       " 'sigma_34': -4.226198355383122e-10,\n",
       " 'sigma_44': 8.647512445814089e-10,\n",
       " 'screen_sigma_33': array([5.03293470e-08, 4.72847265e-09, 4.27402506e-08, 9.37288831e-08,\n",
       "        1.66377487e-07]),\n",
       " 'screen_sigma_34': array([ 5.90964249e-08,  3.80637045e-09, -1.56420269e-08, -1.16529551e-08,\n",
       "         1.62511111e-09]),\n",
       " 'screen_sigma_44': array([7.21968752e-08, 3.29329618e-08, 9.02912721e-09, 2.95560456e-09,\n",
       "        8.64751245e-10]),\n",
       " 'sqrt_norm_emit_4d': 1.8325553438251417e-06,\n",
       " 'sqrt_norm_emit_4d_err': 3.708144357228394e-07}"
      ]
     },
     "execution_count": 10,
     "metadata": {},
     "output_type": "execute_result"
    }
   ],
   "source": [
    "res"
   ]
  },
  {
   "cell_type": "markdown",
   "id": "f6e66c9e-8773-4b6c-b393-335a7b45e18e",
   "metadata": {},
   "source": [
    "## Example running online (do not run on machine!)"
   ]
  },
  {
   "cell_type": "code",
   "execution_count": 11,
   "id": "0bd09ce9-da64-4e6e-83b3-61a69a565b4b",
   "metadata": {
    "execution": {
     "iopub.execute_input": "2022-12-18T23:09:04.073413Z",
     "iopub.status.busy": "2022-12-18T23:09:04.073322Z",
     "iopub.status.idle": "2022-12-18T23:09:04.075122Z",
     "shell.execute_reply": "2022-12-18T23:09:04.074760Z"
    }
   },
   "outputs": [],
   "source": [
    "meas.online = True"
   ]
  },
  {
   "cell_type": "code",
   "execution_count": 12,
   "id": "1f892d9a-e1c8-4564-abba-6939a8a434e7",
   "metadata": {
    "execution": {
     "iopub.execute_input": "2022-12-18T23:09:04.076777Z",
     "iopub.status.busy": "2022-12-18T23:09:04.076681Z",
     "iopub.status.idle": "2022-12-18T23:09:11.184596Z",
     "shell.execute_reply": "2022-12-18T23:09:11.184178Z"
    }
   },
   "outputs": [
    {
     "name": "stdout",
     "output_type": "stream",
     "text": [
      "cannot connect to OTRS:IN20:541:RESOLUTION\n"
     ]
    }
   ],
   "source": [
    "try:\n",
    "    res = meas.measure_emittance()\n",
    "except:\n",
    "    pass # epics can't connect on my local pc"
   ]
  },
  {
   "cell_type": "markdown",
   "id": "c6b71629-2020-446c-86b6-26b749412fcd",
   "metadata": {},
   "source": [
    "## Example running with some random beamsize model \n",
    "### (can be any simulation, just need to pass pyemittance the beamsize fn)"
   ]
  },
  {
   "cell_type": "code",
   "execution_count": 13,
   "id": "d768660f-b07e-4087-acc0-d4e47e996169",
   "metadata": {
    "execution": {
     "iopub.execute_input": "2022-12-18T23:09:11.186633Z",
     "iopub.status.busy": "2022-12-18T23:09:11.186505Z",
     "iopub.status.idle": "2022-12-18T23:09:11.189689Z",
     "shell.execute_reply": "2022-12-18T23:09:11.189285Z"
    }
   },
   "outputs": [
    {
     "data": {
      "text/plain": [
       "(4.7808222693410974e-05, 3.5598933711140655e-06, 0, 0)"
      ]
     },
     "execution_count": 13,
     "metadata": {},
     "output_type": "execute_result"
    }
   ],
   "source": [
    "def get_bs_model(*args):\n",
    "    return abs(np.random.normal(1e-6, 5e-5)), abs(np.random.normal(1e-6, 5e-6)), 0, 0\n",
    "\n",
    "get_bs_model()"
   ]
  },
  {
   "cell_type": "code",
   "execution_count": 14,
   "id": "481773b3-36e5-4ebc-9e9b-1493e01dc719",
   "metadata": {
    "execution": {
     "iopub.execute_input": "2022-12-18T23:09:11.191623Z",
     "iopub.status.busy": "2022-12-18T23:09:11.191526Z",
     "iopub.status.idle": "2022-12-18T23:09:11.193727Z",
     "shell.execute_reply": "2022-12-18T23:09:11.193315Z"
    }
   },
   "outputs": [],
   "source": [
    "meas.use_model=True\n",
    "meas.online = False # meaningless when running with a model\n",
    "meas.get_bs_model = get_bs_model"
   ]
  },
  {
   "cell_type": "code",
   "execution_count": 15,
   "id": "e2e3fc3f-bdee-4326-bace-af2afc76a0ed",
   "metadata": {
    "execution": {
     "iopub.execute_input": "2022-12-18T23:09:11.195324Z",
     "iopub.status.busy": "2022-12-18T23:09:11.195234Z",
     "iopub.status.idle": "2022-12-18T23:09:11.199108Z",
     "shell.execute_reply": "2022-12-18T23:09:11.198831Z"
    }
   },
   "outputs": [
    {
     "name": "stderr",
     "output_type": "stream",
     "text": [
      "Emittance can't be computed. Returning error\n"
     ]
    }
   ],
   "source": [
    "res = meas.measure_emittance()"
   ]
  },
  {
   "cell_type": "code",
   "execution_count": 16,
   "id": "f898623f-bda1-4f07-be4c-871c0b56cee9",
   "metadata": {
    "execution": {
     "iopub.execute_input": "2022-12-18T23:09:11.200833Z",
     "iopub.status.busy": "2022-12-18T23:09:11.200577Z",
     "iopub.status.idle": "2022-12-18T23:09:11.203877Z",
     "shell.execute_reply": "2022-12-18T23:09:11.203593Z"
    }
   },
   "outputs": [
    {
     "data": {
      "text/plain": [
       "{'quadvalsx': array([-7.2, -6.4, -5.6, -4.8, -4. , -3. , -2. , -1. ,  0. ]),\n",
       " 'beamsizesx': array([9.27870169e-06, 5.58365946e-05, 1.44391169e-05, 3.39671517e-05,\n",
       "        7.79231559e-06, 6.28217596e-05, 3.97067979e-05, 2.23041306e-05,\n",
       "        1.37053370e-05]),\n",
       " 'beamsizeserrx': array([1.39180525e-07, 8.37548919e-07, 2.16586754e-07, 5.09507276e-07,\n",
       "        1.16884734e-07, 9.42326395e-07, 5.95601968e-07, 3.34561960e-07,\n",
       "        2.05580055e-07]),\n",
       " 'error_x': False,\n",
       " 'emit_x': 1.620071466107757e-11,\n",
       " 'norm_emit_x': 4.280010382218164e-09,\n",
       " 'beta_x': 1.4605219419461744,\n",
       " 'alpha_x': 2.1816338703881946,\n",
       " 'emit_x_err': 3.244629465381117e-13,\n",
       " 'norm_emit_x_err': 8.571873580148885e-11,\n",
       " 'beta_x_rel_err': 0.020027693427478142,\n",
       " 'alpha_x_rel_err': 1.558004452556829e-23,\n",
       " 'sigma_11': 2.3661499237712872e-11,\n",
       " 'sigma_12': -3.534402782910143e-11,\n",
       " 'sigma_22': 6.388705312064867e-11,\n",
       " 'screen_sigma_11': array([9.54054842e-11, 7.95842287e-11, 7.13575869e-11, 7.05816265e-11,\n",
       "        7.71138856e-11, 9.53417246e-11, 1.24496239e-10, 1.64308730e-10,\n",
       "        2.14513978e-10]),\n",
       " 'screen_sigma_12': array([3.14689524e-11, 2.83968680e-11, 2.85828292e-11, 3.19643402e-11,\n",
       "        3.84795472e-11, 5.09371168e-11, 6.80773087e-11, 8.97834818e-11,\n",
       "        1.15940514e-10]),\n",
       " 'screen_sigma_22': array([1.31308816e-11, 1.34303653e-11, 1.51272111e-11, 1.81942846e-11,\n",
       "        2.26047319e-11, 2.99664500e-11, 3.93343860e-11, 5.06579095e-11,\n",
       "        6.38870531e-11]),\n",
       " 'quadvalsy': array([-1.50953581, -0.7005752 , -0.05340671,  0.59376178,  1.24093027]),\n",
       " 'beamsizesy': array([2.44429626e-06, 4.26028111e-06, 7.29025807e-07, 9.94213225e-06,\n",
       "        5.75358054e-06]),\n",
       " 'beamsizeserry': array([3.66644439e-08, 6.39042166e-08, 1.09353871e-08, 1.49131984e-07,\n",
       "        8.63037080e-08]),\n",
       " 'error_y': True}"
      ]
     },
     "execution_count": 16,
     "metadata": {},
     "output_type": "execute_result"
    }
   ],
   "source": [
    "res"
   ]
  }
 ],
 "metadata": {
  "kernelspec": {
   "display_name": "Python 3 (ipykernel)",
   "language": "python",
   "name": "python3"
  },
  "language_info": {
   "codemirror_mode": {
    "name": "ipython",
    "version": 3
   },
   "file_extension": ".py",
   "mimetype": "text/x-python",
   "name": "python",
   "nbconvert_exporter": "python",
   "pygments_lexer": "ipython3",
   "version": "3.9.15"
  },
  "vscode": {
   "interpreter": {
    "hash": "a91e20ba2d53a502f7925f39cf39925e3f47f4d0539594422b17676132d3b721"
   }
  }
 },
 "nbformat": 4,
 "nbformat_minor": 5
}
