{
 "cells": [
  {
   "cell_type": "markdown",
   "id": "fe4da335-fbfe-4fb4-a2db-17e34459e350",
   "metadata": {},
   "source": [
    "# Beam Simulator and EPICS server\n",
    "\n",
    "Run this cell to start the server. \n",
    "\n",
    "Then try on the command line:\n",
    "```\n",
    "caput QUAD:HTR:120:BCTRL 1.234\n",
    "caget QUAD:HTR:120:BACT\n",
    "```\n"
   ]
  },
  {
   "cell_type": "code",
   "execution_count": null,
   "id": "6e55ce08-226c-4348-88b9-8fad95ec98e1",
   "metadata": {},
   "outputs": [
    {
     "name": "stdout",
     "output_type": "stream",
     "text": [
      "2022-12-14 17:50:45,396 | INFO : Initialized config: LCLS2_OTR0H04\n",
      "2022-12-14 17:50:45,398 | INFO : Serving: ['QUAD:HTR:120:BCTRL', 'QUAD:HTR:120:BACT', 'OTRS:HTR:330:Image:ArrayData', 'OTRS:HTR:330:Image:ArraySize1_RBV', 'OTRS:HTR:330:Image:ArraySize0_RBV', 'OTRS:HTR:330:RESOLUTION', 'sim_screen_sigma_x', 'sim_screen_sigma_y']\n",
      "2022-12-14 17:51:02,821 | INFO : Setting QUAD:HTR:120:BCTRL =  1.0\n",
      "2022-12-14 17:51:55,754 | INFO : Setting QUAD:HTR:120:BCTRL =  1.234\n",
      "2022-12-14 17:52:55,471 | INFO : Setting QUAD:HTR:120:BCTRL =  2.0\n",
      "2022-12-14 17:52:57,191 | INFO : Setting QUAD:HTR:120:BCTRL =  0.0\n",
      "2022-12-14 17:52:57,408 | INFO : Setting QUAD:HTR:120:BCTRL =  0.2631578947368421\n",
      "2022-12-14 17:52:57,613 | INFO : Setting QUAD:HTR:120:BCTRL =  0.5263157894736842\n",
      "2022-12-14 17:52:57,818 | INFO : Setting QUAD:HTR:120:BCTRL =  0.7894736842105263\n",
      "2022-12-14 17:52:58,023 | INFO : Setting QUAD:HTR:120:BCTRL =  1.0526315789473684\n",
      "2022-12-14 17:52:58,225 | INFO : Setting QUAD:HTR:120:BCTRL =  1.3157894736842104\n",
      "2022-12-14 17:52:58,429 | INFO : Setting QUAD:HTR:120:BCTRL =  1.5789473684210527\n",
      "2022-12-14 17:52:58,634 | INFO : Setting QUAD:HTR:120:BCTRL =  1.8421052631578947\n",
      "2022-12-14 17:52:58,837 | INFO : Setting QUAD:HTR:120:BCTRL =  2.1052631578947367\n",
      "2022-12-14 17:52:59,039 | INFO : Setting QUAD:HTR:120:BCTRL =  2.3684210526315788\n",
      "2022-12-14 17:52:59,242 | INFO : Setting QUAD:HTR:120:BCTRL =  2.631578947368421\n",
      "2022-12-14 17:52:59,446 | INFO : Setting QUAD:HTR:120:BCTRL =  2.894736842105263\n",
      "2022-12-14 17:52:59,649 | INFO : Setting QUAD:HTR:120:BCTRL =  3.1578947368421053\n",
      "2022-12-14 17:52:59,853 | INFO : Setting QUAD:HTR:120:BCTRL =  3.4210526315789473\n",
      "2022-12-14 17:53:00,057 | INFO : Setting QUAD:HTR:120:BCTRL =  3.6842105263157894\n",
      "2022-12-14 17:53:00,261 | INFO : Setting QUAD:HTR:120:BCTRL =  3.9473684210526314\n",
      "2022-12-14 17:53:00,463 | INFO : Setting QUAD:HTR:120:BCTRL =  4.2105263157894735\n",
      "2022-12-14 17:53:00,669 | INFO : Setting QUAD:HTR:120:BCTRL =  4.473684210526316\n",
      "2022-12-14 17:53:00,874 | INFO : Setting QUAD:HTR:120:BCTRL =  4.7368421052631575\n",
      "2022-12-14 17:53:01,079 | INFO : Setting QUAD:HTR:120:BCTRL =  5.0\n",
      "2022-12-14 17:53:02,035 | INFO : Setting QUAD:HTR:120:BCTRL =  0.0\n",
      "2022-12-14 17:53:04,589 | INFO : Setting QUAD:HTR:120:BCTRL =  -0.10000000000000009\n",
      "2022-12-14 17:53:04,866 | INFO : Setting QUAD:HTR:120:BCTRL =  -0.7000000000000002\n",
      "2022-12-14 17:53:05,106 | INFO : Setting QUAD:HTR:120:BCTRL =  -0.8999999999999999\n",
      "2022-12-14 17:53:05,382 | INFO : Setting QUAD:HTR:120:BCTRL =  -1.2000000000000002\n",
      "2022-12-14 17:53:05,615 | INFO : Setting QUAD:HTR:120:BCTRL =  -1.5\n",
      "2022-12-14 17:53:05,857 | INFO : Setting QUAD:HTR:120:BCTRL =  -1.7000000000000002\n",
      "2022-12-14 17:53:06,095 | INFO : Setting QUAD:HTR:120:BCTRL =  -2.1\n",
      "2022-12-14 17:53:06,342 | INFO : Setting QUAD:HTR:120:BCTRL =  -2.5\n",
      "2022-12-14 17:53:06,590 | INFO : Setting QUAD:HTR:120:BCTRL =  -2.8\n",
      "2022-12-14 17:53:06,825 | INFO : Setting QUAD:HTR:120:BCTRL =  -3.2\n",
      "2022-12-14 17:53:07,059 | INFO : Setting QUAD:HTR:120:BCTRL =  -3.7\n",
      "2022-12-14 17:53:07,933 | INFO : Setting QUAD:HTR:120:BCTRL =  -3.6\n",
      "2022-12-14 17:53:08,212 | INFO : Setting QUAD:HTR:120:BCTRL =  -1.0\n",
      "2022-12-14 17:53:08,457 | INFO : Setting QUAD:HTR:120:BCTRL =  -0.3999999999999999\n",
      "2022-12-14 17:53:08,695 | INFO : Setting QUAD:HTR:120:BCTRL =  0.2999999999999998\n",
      "2022-12-14 17:53:08,928 | INFO : Setting QUAD:HTR:120:BCTRL =  0.5999999999999996\n",
      "2022-12-14 17:53:09,166 | INFO : Setting QUAD:HTR:120:BCTRL =  1.0\n",
      "2022-12-14 17:53:09,410 | INFO : Setting QUAD:HTR:120:BCTRL =  1.4000000000000004\n",
      "2022-12-14 17:53:09,662 | INFO : Setting QUAD:HTR:120:BCTRL =  1.7000000000000002\n",
      "2022-12-14 17:53:09,898 | INFO : Setting QUAD:HTR:120:BCTRL =  1.9000000000000004\n",
      "2022-12-14 17:53:10,144 | INFO : Setting QUAD:HTR:120:BCTRL =  2.0999999999999996\n",
      "2022-12-14 17:53:10,379 | INFO : Setting QUAD:HTR:120:BCTRL =  2.3\n",
      "2022-12-14 17:53:10,991 | INFO : Setting QUAD:HTR:120:BCTRL =  2.4000000000000004\n",
      "2022-12-14 17:53:11,270 | INFO : Setting QUAD:HTR:120:BCTRL =  4.0\n",
      "2022-12-14 17:53:16,605 | INFO : Setting QUAD:HTR:120:BCTRL =  0.0\n",
      "2022-12-14 17:53:17,857 | INFO : Setting QUAD:HTR:120:BCTRL =  0.8333333333333334\n",
      "2022-12-14 17:53:19,075 | INFO : Setting QUAD:HTR:120:BCTRL =  1.6666666666666667\n",
      "2022-12-14 17:53:20,297 | INFO : Setting QUAD:HTR:120:BCTRL =  2.5\n",
      "2022-12-14 17:53:21,542 | INFO : Setting QUAD:HTR:120:BCTRL =  3.3333333333333335\n",
      "2022-12-14 17:53:22,770 | INFO : Setting QUAD:HTR:120:BCTRL =  4.166666666666667\n",
      "2022-12-14 17:53:23,993 | INFO : Setting QUAD:HTR:120:BCTRL =  5.0\n",
      "2022-12-14 17:53:25,218 | INFO : Setting QUAD:HTR:120:BCTRL =  1.4476380539531588\n",
      "2022-12-14 17:53:26,472 | INFO : Setting QUAD:HTR:120:BCTRL =  1.543082410570755\n",
      "2022-12-14 17:53:27,693 | INFO : Setting QUAD:HTR:120:BCTRL =  1.7339711238059472\n",
      "2022-12-14 17:53:28,916 | INFO : Setting QUAD:HTR:120:BCTRL =  1.8294154804235434\n",
      "2022-12-14 17:53:30,142 | INFO : Setting QUAD:HTR:120:BCTRL =  1.9248598370411396\n",
      "2022-12-14 17:53:31,366 | INFO : Setting QUAD:HTR:120:BCTRL =  2.0203041936587356\n",
      "2022-12-14 17:53:32,632 | INFO : Setting QUAD:HTR:120:BCTRL =  3.8480865186969164\n",
      "2022-12-14 17:53:33,850 | INFO : Setting QUAD:HTR:120:BCTRL =  3.944759487564607\n",
      "2022-12-14 17:53:35,074 | INFO : Setting QUAD:HTR:120:BCTRL =  4.041432456432297\n",
      "2022-12-14 17:53:36,290 | INFO : Setting QUAD:HTR:120:BCTRL =  4.2347783941676775\n",
      "2022-12-14 17:53:37,517 | INFO : Setting QUAD:HTR:120:BCTRL =  4.331451363035368\n",
      "2022-12-14 17:53:38,737 | INFO : Setting QUAD:HTR:120:BCTRL =  4.428124331903058\n"
     ]
    }
   ],
   "source": [
    "from pyemittance.simulation_server import start_server\n",
    "from pyemittance import print_logging\n",
    "\n",
    "print_logging()\n",
    "\n",
    "start_server()"
   ]
  },
  {
   "cell_type": "code",
   "execution_count": null,
   "id": "76d6e50a-6a77-4195-9d56-b7945e7a42ad",
   "metadata": {},
   "outputs": [],
   "source": []
  }
 ],
 "metadata": {
  "kernelspec": {
   "display_name": "Python 3 (ipykernel)",
   "language": "python",
   "name": "python3"
  },
  "language_info": {
   "codemirror_mode": {
    "name": "ipython",
    "version": 3
   },
   "file_extension": ".py",
   "mimetype": "text/x-python",
   "name": "python",
   "nbconvert_exporter": "python",
   "pygments_lexer": "ipython3",
   "version": "3.9.15"
  }
 },
 "nbformat": 4,
 "nbformat_minor": 5
}
