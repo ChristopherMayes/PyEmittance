{
 "cells": [
  {
   "cell_type": "code",
   "execution_count": 1,
   "id": "d1adf8a4",
   "metadata": {},
   "outputs": [],
   "source": [
    "import numpy as np\n",
    "from pyemittance.emittance_calc import EmitCalc\n",
    "from pyemittance.optics import quad_drift_mat2, propagate_sigma"
   ]
  },
  {
   "cell_type": "markdown",
   "id": "ac7535c8",
   "metadata": {},
   "source": [
    "# Create data"
   ]
  },
  {
   "cell_type": "code",
   "execution_count": 2,
   "id": "e4d972db",
   "metadata": {},
   "outputs": [],
   "source": [
    "# Some beam covariance matrix\n",
    "EMIT = 1e-9\n",
    "BETA_X = 10\n",
    "ALPHA_X = -1\n",
    "GAMMA_X = (1+ALPHA_X**2)/BETA_X\n",
    "SIGMA_X = np.sqrt(EMIT*BETA_X)\n",
    "SIGMA_PX = np.sqrt(EMIT*GAMMA_X)\n",
    "COV_X__PX = -ALPHA_X*EMIT\n",
    "\n",
    "\n",
    "SIGMA_11 = SIGMA_X**2\n",
    "SIGMA_12 = COV_X__PX\n",
    "SIGMA_22 = SIGMA_PX**2\n",
    "\n",
    "SIGMA0 = np.array([[SIGMA_11, SIGMA_12], [SIGMA_12, SIGMA_22]])"
   ]
  },
  {
   "cell_type": "code",
   "execution_count": 4,
   "id": "6efa8fd5",
   "metadata": {},
   "outputs": [],
   "source": [
    "emit_calc = EmitCalc()\n",
    "\n",
    "def beam_size_meas(kL, sigma0, Ltot=2.2, Lquad=0):\n",
    "    mat2 = quad_drift_mat2(kL, Lquad=Lquad, Ltot=Ltot)\n",
    "    sigma1 = propagate_sigma(sigma0, mat2)\n",
    "    return np.sqrt(sigma1[0,0])\n",
    "\n",
    "@np.vectorize\n",
    "def model(kL):\n",
    "    return beam_size_meas(kL, SIGMA0, Ltot=2.26, Lquad=0.108)\n",
    "\n",
    "kLlist = np.linspace(0.2, 0.7, 10)\n",
    "\n",
    "# Make the data\n",
    "meas =  np.array([model(k) for k in kLlist])"
   ]
  },
  {
   "cell_type": "code",
   "execution_count": 5,
   "id": "88829b8d",
   "metadata": {},
   "outputs": [
    {
     "data": {
      "text/plain": [
       "<matplotlib.legend.Legend at 0x7fe228245710>"
      ]
     },
     "execution_count": 5,
     "metadata": {},
     "output_type": "execute_result"
    },
    {
     "data": {
      "image/png": "[encoded data removed]",
      "text/plain": [
       "<Figure size 432x288 with 1 Axes>"
      ]
     },
     "metadata": {
      "needs_background": "light"
     },
     "output_type": "display_data"
    }
   ],
   "source": [
    "import matplotlib.pyplot as plt\n",
    "\n",
    "plt.scatter(kLlist, meas*1e6, label='thick quad model')\n",
    "plt.xlabel(r'quad k1 (1/m$^2$)')\n",
    "plt.ylabel('Beam size (µm)')\n",
    "plt.legend()"
   ]
  },
  {
   "cell_type": "markdown",
   "id": "c1a6121d",
   "metadata": {},
   "source": [
    "# Fit data w/ PyEmittance"
   ]
  },
  {
   "cell_type": "code",
   "execution_count": 6,
   "id": "005f3e26",
   "metadata": {},
   "outputs": [],
   "source": [
    "from pyemittance.observer import Observer\n",
    "from pyemittance.emittance_calc import EmitCalc\n",
    "\n",
    "o1 = Observer(kLlist, {'x': meas ,'y': meas} )"
   ]
  },
  {
   "cell_type": "code",
   "execution_count": 7,
   "id": "252061bb",
   "metadata": {},
   "outputs": [
    {
     "ename": "AttributeError",
     "evalue": "'EmitCalc' object has no attribute 'estimate_sigma_mat_thick_quad_drift'",
     "output_type": "error",
     "traceback": [
      "\u001b[0;31m---------------------------------------------------------------------------\u001b[0m",
      "\u001b[0;31mAttributeError\u001b[0m                            Traceback (most recent call last)",
      "\u001b[0;32m/var/folders/zz/zvb8y0jx2sb5q3hn972ys2d5zzzdd3/T/ipykernel_24737/3202862887.py\u001b[0m in \u001b[0;36m<module>\u001b[0;34m\u001b[0m\n\u001b[1;32m      1\u001b[0m \u001b[0mef1\u001b[0m \u001b[0;34m=\u001b[0m \u001b[0mEmitCalc\u001b[0m\u001b[0;34m(\u001b[0m\u001b[0mo1\u001b[0m\u001b[0;34m.\u001b[0m\u001b[0mquad_meas\u001b[0m\u001b[0;34m,\u001b[0m\u001b[0mo1\u001b[0m\u001b[0;34m.\u001b[0m\u001b[0mbeam_meas\u001b[0m\u001b[0;34m)\u001b[0m\u001b[0;34m\u001b[0m\u001b[0;34m\u001b[0m\u001b[0m\n\u001b[0;32m----> 2\u001b[0;31m \u001b[0memitx\u001b[0m\u001b[0;34m,\u001b[0m \u001b[0merry\u001b[0m \u001b[0;34m=\u001b[0m \u001b[0mef1\u001b[0m\u001b[0;34m.\u001b[0m\u001b[0mdo_emit_fit\u001b[0m\u001b[0;34m(\u001b[0m\u001b[0mdim\u001b[0m\u001b[0;34m=\u001b[0m\u001b[0;34m'x'\u001b[0m\u001b[0;34m)\u001b[0m\u001b[0;34m\u001b[0m\u001b[0;34m\u001b[0m\u001b[0m\n\u001b[0m\u001b[1;32m      3\u001b[0m \u001b[0memity\u001b[0m\u001b[0;34m,\u001b[0m \u001b[0merry\u001b[0m \u001b[0;34m=\u001b[0m \u001b[0mef1\u001b[0m\u001b[0;34m.\u001b[0m\u001b[0mdo_emit_fit\u001b[0m\u001b[0;34m(\u001b[0m\u001b[0mdim\u001b[0m\u001b[0;34m=\u001b[0m\u001b[0;34m'y'\u001b[0m\u001b[0;34m)\u001b[0m\u001b[0;34m\u001b[0m\u001b[0;34m\u001b[0m\u001b[0m\n",
      "\u001b[0;32m~/Documents/SLAC/PyEmittance/pyemittance/emittance_calc.py\u001b[0m in \u001b[0;36mdo_emit_fit\u001b[0;34m(self, dim)\u001b[0m\n\u001b[1;32m     86\u001b[0m \u001b[0;34m\u001b[0m\u001b[0m\n\u001b[1;32m     87\u001b[0m         \u001b[0;32mif\u001b[0m \u001b[0mself\u001b[0m\u001b[0;34m.\u001b[0m\u001b[0mtest_mode\u001b[0m \u001b[0;34m==\u001b[0m \u001b[0;32mFalse\u001b[0m\u001b[0;34m:\u001b[0m\u001b[0;34m\u001b[0m\u001b[0;34m\u001b[0m\u001b[0m\n\u001b[0;32m---> 88\u001b[0;31m             \u001b[0memit\u001b[0m\u001b[0;34m,\u001b[0m \u001b[0mself\u001b[0m\u001b[0;34m.\u001b[0m\u001b[0msig_11\u001b[0m\u001b[0;34m,\u001b[0m \u001b[0mself\u001b[0m\u001b[0;34m.\u001b[0m\u001b[0msig_12\u001b[0m\u001b[0;34m,\u001b[0m \u001b[0mself\u001b[0m\u001b[0;34m.\u001b[0m\u001b[0m_sig_22\u001b[0m \u001b[0;34m=\u001b[0m \u001b[0mself\u001b[0m\u001b[0;34m.\u001b[0m\u001b[0mestimate_sigma_mat_thick_quad_drift\u001b[0m\u001b[0;34m(\u001b[0m\u001b[0mbs\u001b[0m\u001b[0;34m,\u001b[0m \u001b[0mq\u001b[0m\u001b[0;34m,\u001b[0m \u001b[0mweights\u001b[0m\u001b[0;34m)\u001b[0m\u001b[0;34m\u001b[0m\u001b[0;34m\u001b[0m\u001b[0m\n\u001b[0m\u001b[1;32m     89\u001b[0m             \u001b[0mplt\u001b[0m\u001b[0;34m.\u001b[0m\u001b[0mshow\u001b[0m\u001b[0;34m(\u001b[0m\u001b[0;34m)\u001b[0m\u001b[0;34m\u001b[0m\u001b[0;34m\u001b[0m\u001b[0m\n\u001b[1;32m     90\u001b[0m \u001b[0;34m\u001b[0m\u001b[0m\n",
      "\u001b[0;31mAttributeError\u001b[0m: 'EmitCalc' object has no attribute 'estimate_sigma_mat_thick_quad_drift'"
     ]
    }
   ],
   "source": [
    "ef1 = EmitCalc(o1.quad_meas,o1.beam_meas)\n",
    "emitx, erry = ef1.do_emit_fit(dim='x')\n",
    "emity, erry = ef1.do_emit_fit(dim='y')"
   ]
  },
  {
   "cell_type": "code",
   "execution_count": null,
   "id": "3b55d446",
   "metadata": {},
   "outputs": [],
   "source": []
  }
 ],
 "metadata": {
  "kernelspec": {
   "display_name": "Python 3 (ipykernel)",
   "language": "python",
   "name": "python3"
  },
  "language_info": {
   "codemirror_mode": {
    "name": "ipython",
    "version": 3
   },
   "file_extension": ".py",
   "mimetype": "text/x-python",
   "name": "python",
   "nbconvert_exporter": "python",
   "pygments_lexer": "ipython3",
   "version": "3.7.12"
  }
 },
 "nbformat": 4,
 "nbformat_minor": 5
}
